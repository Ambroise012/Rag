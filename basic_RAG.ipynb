{
 "cells": [
  {
   "cell_type": "code",
   "execution_count": 15,
   "metadata": {},
   "outputs": [
    {
     "name": "stdout",
     "output_type": "stream",
     "text": [
      "Requirement already satisfied: gradio in c:\\users\\ambro\\onedrive\\bureau\\rag\\.venv\\lib\\site-packages (5.11.0)\n",
      "Requirement already satisfied: huggingface_hub in c:\\users\\ambro\\onedrive\\bureau\\rag\\.venv\\lib\\site-packages (0.27.1)\n",
      "Requirement already satisfied: PyMuPDF in c:\\users\\ambro\\onedrive\\bureau\\rag\\.venv\\lib\\site-packages (1.25.1)\n",
      "Requirement already satisfied: sentence-transformers in c:\\users\\ambro\\onedrive\\bureau\\rag\\.venv\\lib\\site-packages (3.3.1)\n",
      "Requirement already satisfied: faiss-cpu in c:\\users\\ambro\\onedrive\\bureau\\rag\\.venv\\lib\\site-packages (1.9.0.post1)\n",
      "Requirement already satisfied: aiofiles<24.0,>=22.0 in c:\\users\\ambro\\onedrive\\bureau\\rag\\.venv\\lib\\site-packages (from gradio) (23.2.1)\n",
      "Requirement already satisfied: anyio<5.0,>=3.0 in c:\\users\\ambro\\onedrive\\bureau\\rag\\.venv\\lib\\site-packages (from gradio) (4.8.0)\n",
      "Requirement already satisfied: fastapi<1.0,>=0.115.2 in c:\\users\\ambro\\onedrive\\bureau\\rag\\.venv\\lib\\site-packages (from gradio) (0.115.6)\n",
      "Requirement already satisfied: ffmpy in c:\\users\\ambro\\onedrive\\bureau\\rag\\.venv\\lib\\site-packages (from gradio) (0.5.0)\n",
      "Requirement already satisfied: gradio-client==1.5.3 in c:\\users\\ambro\\onedrive\\bureau\\rag\\.venv\\lib\\site-packages (from gradio) (1.5.3)\n",
      "Requirement already satisfied: httpx>=0.24.1 in c:\\users\\ambro\\onedrive\\bureau\\rag\\.venv\\lib\\site-packages (from gradio) (0.28.1)\n",
      "Requirement already satisfied: jinja2<4.0 in c:\\users\\ambro\\onedrive\\bureau\\rag\\.venv\\lib\\site-packages (from gradio) (3.1.5)\n",
      "Requirement already satisfied: markupsafe~=2.0 in c:\\users\\ambro\\onedrive\\bureau\\rag\\.venv\\lib\\site-packages (from gradio) (2.1.5)\n",
      "Requirement already satisfied: numpy<3.0,>=1.0 in c:\\users\\ambro\\onedrive\\bureau\\rag\\.venv\\lib\\site-packages (from gradio) (1.26.4)\n",
      "Requirement already satisfied: orjson~=3.0 in c:\\users\\ambro\\onedrive\\bureau\\rag\\.venv\\lib\\site-packages (from gradio) (3.10.14)\n",
      "Requirement already satisfied: packaging in c:\\users\\ambro\\onedrive\\bureau\\rag\\.venv\\lib\\site-packages (from gradio) (24.2)\n",
      "Requirement already satisfied: pandas<3.0,>=1.0 in c:\\users\\ambro\\onedrive\\bureau\\rag\\.venv\\lib\\site-packages (from gradio) (2.2.3)\n",
      "Requirement already satisfied: pillow<12.0,>=8.0 in c:\\users\\ambro\\onedrive\\bureau\\rag\\.venv\\lib\\site-packages (from gradio) (11.1.0)\n",
      "Requirement already satisfied: pydantic>=2.0 in c:\\users\\ambro\\onedrive\\bureau\\rag\\.venv\\lib\\site-packages (from gradio) (2.10.5)\n",
      "Requirement already satisfied: pydub in c:\\users\\ambro\\onedrive\\bureau\\rag\\.venv\\lib\\site-packages (from gradio) (0.25.1)\n",
      "Requirement already satisfied: python-multipart>=0.0.18 in c:\\users\\ambro\\onedrive\\bureau\\rag\\.venv\\lib\\site-packages (from gradio) (0.0.20)\n",
      "Requirement already satisfied: pyyaml<7.0,>=5.0 in c:\\users\\ambro\\onedrive\\bureau\\rag\\.venv\\lib\\site-packages (from gradio) (6.0.2)\n",
      "Requirement already satisfied: ruff>=0.2.2 in c:\\users\\ambro\\onedrive\\bureau\\rag\\.venv\\lib\\site-packages (from gradio) (0.9.0)\n",
      "Requirement already satisfied: safehttpx<0.2.0,>=0.1.6 in c:\\users\\ambro\\onedrive\\bureau\\rag\\.venv\\lib\\site-packages (from gradio) (0.1.6)\n",
      "Requirement already satisfied: semantic-version~=2.0 in c:\\users\\ambro\\onedrive\\bureau\\rag\\.venv\\lib\\site-packages (from gradio) (2.10.0)\n",
      "Requirement already satisfied: starlette<1.0,>=0.40.0 in c:\\users\\ambro\\onedrive\\bureau\\rag\\.venv\\lib\\site-packages (from gradio) (0.41.3)\n",
      "Requirement already satisfied: tomlkit<0.14.0,>=0.12.0 in c:\\users\\ambro\\onedrive\\bureau\\rag\\.venv\\lib\\site-packages (from gradio) (0.13.2)\n",
      "Requirement already satisfied: typer<1.0,>=0.12 in c:\\users\\ambro\\onedrive\\bureau\\rag\\.venv\\lib\\site-packages (from gradio) (0.15.1)\n",
      "Requirement already satisfied: typing-extensions~=4.0 in c:\\users\\ambro\\onedrive\\bureau\\rag\\.venv\\lib\\site-packages (from gradio) (4.12.2)\n",
      "Requirement already satisfied: uvicorn>=0.14.0 in c:\\users\\ambro\\onedrive\\bureau\\rag\\.venv\\lib\\site-packages (from gradio) (0.34.0)\n",
      "Requirement already satisfied: fsspec in c:\\users\\ambro\\onedrive\\bureau\\rag\\.venv\\lib\\site-packages (from gradio-client==1.5.3->gradio) (2024.9.0)\n",
      "Requirement already satisfied: websockets<15.0,>=10.0 in c:\\users\\ambro\\onedrive\\bureau\\rag\\.venv\\lib\\site-packages (from gradio-client==1.5.3->gradio) (14.1)\n",
      "Requirement already satisfied: filelock in c:\\users\\ambro\\onedrive\\bureau\\rag\\.venv\\lib\\site-packages (from huggingface_hub) (3.16.1)\n",
      "Requirement already satisfied: requests in c:\\users\\ambro\\onedrive\\bureau\\rag\\.venv\\lib\\site-packages (from huggingface_hub) (2.32.3)\n",
      "Requirement already satisfied: tqdm>=4.42.1 in c:\\users\\ambro\\onedrive\\bureau\\rag\\.venv\\lib\\site-packages (from huggingface_hub) (4.67.1)\n",
      "Requirement already satisfied: transformers<5.0.0,>=4.41.0 in c:\\users\\ambro\\onedrive\\bureau\\rag\\.venv\\lib\\site-packages (from sentence-transformers) (4.48.0)\n",
      "Requirement already satisfied: torch>=1.11.0 in c:\\users\\ambro\\onedrive\\bureau\\rag\\.venv\\lib\\site-packages (from sentence-transformers) (2.5.1)\n",
      "Requirement already satisfied: scikit-learn in c:\\users\\ambro\\onedrive\\bureau\\rag\\.venv\\lib\\site-packages (from sentence-transformers) (1.6.1)\n",
      "Requirement already satisfied: scipy in c:\\users\\ambro\\onedrive\\bureau\\rag\\.venv\\lib\\site-packages (from sentence-transformers) (1.15.0)\n",
      "Requirement already satisfied: idna>=2.8 in c:\\users\\ambro\\onedrive\\bureau\\rag\\.venv\\lib\\site-packages (from anyio<5.0,>=3.0->gradio) (3.10)\n",
      "Requirement already satisfied: sniffio>=1.1 in c:\\users\\ambro\\onedrive\\bureau\\rag\\.venv\\lib\\site-packages (from anyio<5.0,>=3.0->gradio) (1.3.1)\n",
      "Requirement already satisfied: certifi in c:\\users\\ambro\\onedrive\\bureau\\rag\\.venv\\lib\\site-packages (from httpx>=0.24.1->gradio) (2024.12.14)\n",
      "Requirement already satisfied: httpcore==1.* in c:\\users\\ambro\\onedrive\\bureau\\rag\\.venv\\lib\\site-packages (from httpx>=0.24.1->gradio) (1.0.7)\n",
      "Requirement already satisfied: h11<0.15,>=0.13 in c:\\users\\ambro\\onedrive\\bureau\\rag\\.venv\\lib\\site-packages (from httpcore==1.*->httpx>=0.24.1->gradio) (0.14.0)\n",
      "Requirement already satisfied: python-dateutil>=2.8.2 in c:\\users\\ambro\\onedrive\\bureau\\rag\\.venv\\lib\\site-packages (from pandas<3.0,>=1.0->gradio) (2.9.0.post0)\n",
      "Requirement already satisfied: pytz>=2020.1 in c:\\users\\ambro\\onedrive\\bureau\\rag\\.venv\\lib\\site-packages (from pandas<3.0,>=1.0->gradio) (2024.2)\n",
      "Requirement already satisfied: tzdata>=2022.7 in c:\\users\\ambro\\onedrive\\bureau\\rag\\.venv\\lib\\site-packages (from pandas<3.0,>=1.0->gradio) (2024.2)\n",
      "Requirement already satisfied: annotated-types>=0.6.0 in c:\\users\\ambro\\onedrive\\bureau\\rag\\.venv\\lib\\site-packages (from pydantic>=2.0->gradio) (0.7.0)\n",
      "Requirement already satisfied: pydantic-core==2.27.2 in c:\\users\\ambro\\onedrive\\bureau\\rag\\.venv\\lib\\site-packages (from pydantic>=2.0->gradio) (2.27.2)\n",
      "Requirement already satisfied: networkx in c:\\users\\ambro\\onedrive\\bureau\\rag\\.venv\\lib\\site-packages (from torch>=1.11.0->sentence-transformers) (3.4.2)\n",
      "Requirement already satisfied: sympy==1.13.1 in c:\\users\\ambro\\onedrive\\bureau\\rag\\.venv\\lib\\site-packages (from torch>=1.11.0->sentence-transformers) (1.13.1)\n",
      "Requirement already satisfied: mpmath<1.4,>=1.1.0 in c:\\users\\ambro\\onedrive\\bureau\\rag\\.venv\\lib\\site-packages (from sympy==1.13.1->torch>=1.11.0->sentence-transformers) (1.3.0)\n",
      "Requirement already satisfied: colorama in c:\\users\\ambro\\onedrive\\bureau\\rag\\.venv\\lib\\site-packages (from tqdm>=4.42.1->huggingface_hub) (0.4.6)\n",
      "Requirement already satisfied: regex!=2019.12.17 in c:\\users\\ambro\\onedrive\\bureau\\rag\\.venv\\lib\\site-packages (from transformers<5.0.0,>=4.41.0->sentence-transformers) (2024.11.6)\n",
      "Requirement already satisfied: tokenizers<0.22,>=0.21 in c:\\users\\ambro\\onedrive\\bureau\\rag\\.venv\\lib\\site-packages (from transformers<5.0.0,>=4.41.0->sentence-transformers) (0.21.0)\n",
      "Requirement already satisfied: safetensors>=0.4.1 in c:\\users\\ambro\\onedrive\\bureau\\rag\\.venv\\lib\\site-packages (from transformers<5.0.0,>=4.41.0->sentence-transformers) (0.5.2)\n",
      "Requirement already satisfied: click>=8.0.0 in c:\\users\\ambro\\onedrive\\bureau\\rag\\.venv\\lib\\site-packages (from typer<1.0,>=0.12->gradio) (8.1.8)\n",
      "Requirement already satisfied: shellingham>=1.3.0 in c:\\users\\ambro\\onedrive\\bureau\\rag\\.venv\\lib\\site-packages (from typer<1.0,>=0.12->gradio) (1.5.4)\n",
      "Requirement already satisfied: rich>=10.11.0 in c:\\users\\ambro\\onedrive\\bureau\\rag\\.venv\\lib\\site-packages (from typer<1.0,>=0.12->gradio) (13.9.4)\n",
      "Requirement already satisfied: charset-normalizer<4,>=2 in c:\\users\\ambro\\onedrive\\bureau\\rag\\.venv\\lib\\site-packages (from requests->huggingface_hub) (3.4.1)\n",
      "Requirement already satisfied: urllib3<3,>=1.21.1 in c:\\users\\ambro\\onedrive\\bureau\\rag\\.venv\\lib\\site-packages (from requests->huggingface_hub) (2.3.0)\n",
      "Requirement already satisfied: joblib>=1.2.0 in c:\\users\\ambro\\onedrive\\bureau\\rag\\.venv\\lib\\site-packages (from scikit-learn->sentence-transformers) (1.4.2)\n",
      "Requirement already satisfied: threadpoolctl>=3.1.0 in c:\\users\\ambro\\onedrive\\bureau\\rag\\.venv\\lib\\site-packages (from scikit-learn->sentence-transformers) (3.5.0)\n",
      "Requirement already satisfied: six>=1.5 in c:\\users\\ambro\\onedrive\\bureau\\rag\\.venv\\lib\\site-packages (from python-dateutil>=2.8.2->pandas<3.0,>=1.0->gradio) (1.17.0)\n",
      "Requirement already satisfied: markdown-it-py>=2.2.0 in c:\\users\\ambro\\onedrive\\bureau\\rag\\.venv\\lib\\site-packages (from rich>=10.11.0->typer<1.0,>=0.12->gradio) (3.0.0)\n",
      "Requirement already satisfied: pygments<3.0.0,>=2.13.0 in c:\\users\\ambro\\onedrive\\bureau\\rag\\.venv\\lib\\site-packages (from rich>=10.11.0->typer<1.0,>=0.12->gradio) (2.19.1)\n",
      "Requirement already satisfied: mdurl~=0.1 in c:\\users\\ambro\\onedrive\\bureau\\rag\\.venv\\lib\\site-packages (from markdown-it-py>=2.2.0->rich>=10.11.0->typer<1.0,>=0.12->gradio) (0.1.2)\n"
     ]
    }
   ],
   "source": [
    "!pip install gradio huggingface_hub PyMuPDF sentence-transformers faiss-cpu"
   ]
  },
  {
   "cell_type": "code",
   "execution_count": null,
   "metadata": {},
   "outputs": [],
   "source": [
    "import gradio as gr\n",
    "from huggingface_hub import InferenceClient\n",
    "from typing import List, Tuple\n",
    "import fitz  # PyMuPDF\n",
    "from sentence_transformers import SentenceTransformer, util\n",
    "import numpy as np\n",
    "import faiss\n",
    "\n",
    "client = InferenceClient(\"HuggingFaceH4/zephyr-7b-beta\", token=\"HUGGINGFACE_READ_API\")"
   ]
  },
  {
   "cell_type": "code",
   "execution_count": 45,
   "metadata": {},
   "outputs": [],
   "source": [
    "class MyApp:\n",
    "    def __init__(self) -> None:\n",
    "        self.documents = []\n",
    "        self.embeddings = None\n",
    "        self.index = None\n",
    "        self.load_pdf(\"2022.findings-naacl.130.pdf\")\n",
    "        self.build_vector_db()\n",
    "\n",
    "    def load_pdf(self, file_path: str) -> None:\n",
    "        \"\"\"Extracts text from a PDF file and stores it in the app's documents.\"\"\"\n",
    "        doc = fitz.open(file_path)\n",
    "        self.documents = []\n",
    "        for page_num in range(len(doc)):\n",
    "            page = doc[page_num]\n",
    "            text = page.get_text()\n",
    "            self.documents.append({\"page\": page_num + 1, \"content\": text})\n",
    "        print(\"PDF processed successfully!\")\n",
    "\n",
    "    def build_vector_db(self) -> None:\n",
    "        \"\"\"Builds a vector database using the content of the PDF.\"\"\"\n",
    "        model = SentenceTransformer('all-MiniLM-L6-v2')\n",
    "        # Generate embeddings for all document contents\n",
    "        self.embeddings = model.encode([doc[\"content\"] for doc in self.documents])\n",
    "        # Create a FAISS index\n",
    "        self.index = faiss.IndexFlatL2(self.embeddings.shape[1])\n",
    "        # Add the embeddings to the index\n",
    "        self.index.add(np.array(self.embeddings))\n",
    "        print(\"Vector database built successfully!\")\n",
    "        \n",
    "    def search_documents(self, query: str, k: int = 3) -> List[str]:\n",
    "        \"\"\"Searches for relevant documents using vector similarity.\"\"\"\n",
    "        model = SentenceTransformer('all-MiniLM-L6-v2')\n",
    "        # Generate an embedding for the query\n",
    "        query_embedding = model.encode([query])\n",
    "        # Perform a search in the FAISS index\n",
    "        D, I = self.index.search(np.array(query_embedding), k)\n",
    "        # Retrieve the top-k documents\n",
    "        results = [self.documents[i][\"content\"] for i in I[0]]\n",
    "        return results if results else [\"No relevant documents found.\"]"
   ]
  },
  {
   "cell_type": "code",
   "execution_count": 46,
   "metadata": {},
   "outputs": [
    {
     "name": "stdout",
     "output_type": "stream",
     "text": [
      "PDF processed successfully!\n",
      "Vector database built successfully!\n"
     ]
    }
   ],
   "source": [
    "app = MyApp()\n",
    "\n",
    "def respond(\n",
    "    message: str,\n",
    "    history: List[Tuple[str, str]],\n",
    "    system_message: str,\n",
    "    max_tokens: int,\n",
    "    temperature: float,\n",
    "    top_p: float,\n",
    "):\n",
    "    system_message = \"You are an expert in identifying and mitigating spurious correlations in NLP models. \" \\\n",
    "                     \"You guide users through the document and answer questions based on its content. \" \\\n",
    "                     \"Please keep your responses concise and to the point.\"\n",
    "    messages = [{\"role\": \"system\", \"content\": system_message}]\n",
    "\n",
    "    for val in history:\n",
    "        if val[0]:\n",
    "            messages.append({\"role\": \"user\", \"content\": val[0]})\n",
    "        if val[1]:\n",
    "            messages.append({\"role\": \"assistant\", \"content\": val[1]})\n",
    "\n",
    "    messages.append({\"role\": \"user\", \"content\": message})\n",
    "\n",
    "    retrieved_docs = app.search_documents(message)\n",
    "    context = \"\\n\".join(retrieved_docs)\n",
    "    messages.append({\"role\": \"system\", \"content\": \"Relevant documents: \" + context})\n",
    "\n",
    "    response = \"\"\n",
    "\n",
    "    for message in client.chat_completion(\n",
    "        messages,\n",
    "        max_tokens=max_tokens,\n",
    "        stream=True,\n",
    "        temperature=temperature,\n",
    "        top_p=top_p,\n",
    "    ):\n",
    "        token = message.choices[0].delta.content\n",
    "        response += token\n",
    "        yield response\n"
   ]
  },
  {
   "cell_type": "code",
   "execution_count": 47,
   "metadata": {},
   "outputs": [
    {
     "name": "stderr",
     "output_type": "stream",
     "text": [
      "c:\\Users\\ambro\\OneDrive\\Bureau\\RAG\\.venv\\Lib\\site-packages\\gradio\\components\\chatbot.py:255: UserWarning: The 'tuples' format for chatbot messages is deprecated and will be removed in a future version of Gradio. Please set type='messages' instead, which uses openai-style 'role' and 'content' keys.\n",
      "  warnings.warn(\n"
     ]
    },
    {
     "name": "stdout",
     "output_type": "stream",
     "text": [
      "* Running on local URL:  http://127.0.0.1:7868\n",
      "\n",
      "To create a public link, set `share=True` in `launch()`.\n"
     ]
    },
    {
     "data": {
      "text/html": [
       "<div><iframe src=\"http://127.0.0.1:7868/\" width=\"100%\" height=\"500\" allow=\"autoplay; camera; microphone; clipboard-read; clipboard-write;\" frameborder=\"0\" allowfullscreen></iframe></div>"
      ],
      "text/plain": [
       "<IPython.core.display.HTML object>"
      ]
     },
     "metadata": {},
     "output_type": "display_data"
    },
    {
     "name": "stderr",
     "output_type": "stream",
     "text": [
      "c:\\Users\\ambro\\OneDrive\\Bureau\\RAG\\.venv\\Lib\\site-packages\\gradio\\helpers.py:968: UserWarning: Unexpected argument. Filling with None.\n",
      "  warnings.warn(\"Unexpected argument. Filling with None.\")\n"
     ]
    }
   ],
   "source": [
    "import gradio as gr\n",
    "\n",
    "# Assuming the MyApp class and respond function are already defined\n",
    "# You should have loaded the document \"Identifying and Mitigating Spurious Correlations\"\n",
    "# and built the vector database using the upload_document method as described before.\n",
    "\n",
    "demo = gr.Blocks()\n",
    "\n",
    "with demo:\n",
    "    gr.Markdown(\"📚 **Identifying and Mitigating Spurious Correlations for Improving Robustness in NLP Models**\")\n",
    "    gr.Markdown(\n",
    "        \"‼️ Disclaimer: This chatbot is based on the paper 'Identifying and Mitigating Spurious Correlations for Improving Robustness in NLP Models'. \"\n",
    "        \"The responses provided are based on the document's content and do not constitute professional advice. ‼️\"\n",
    "    )\n",
    "    \n",
    "    chatbot = gr.ChatInterface(\n",
    "        respond,  # Assuming the respond function uses the MyApp class and document context\n",
    "        examples=[\n",
    "            [\"What are spurious correlations in NLP models?\"],\n",
    "            [\"How can we mitigate spurious correlations in NLP models?\"],\n",
    "            [\"What are the effects of spurious correlations on NLP model robustness?\"],\n",
    "            [\"Can you explain the concept of robustness in NLP?\"],\n",
    "            [\"What are the key challenges in identifying spurious correlations in NLP?\"],\n",
    "            [\"How does dataset design impact spurious correlations in NLP models?\"],\n",
    "            [\"What methods can be used to detect spurious correlations?\"]\n",
    "        ],\n",
    "        title='Spurious Correlations in NLP Models Assistant 📄'\n",
    "    )\n",
    "\n",
    "if __name__ == \"__main__\":\n",
    "    demo.launch()\n"
   ]
  }
 ],
 "metadata": {
  "language_info": {
   "name": "python"
  }
 },
 "nbformat": 4,
 "nbformat_minor": 2
}
